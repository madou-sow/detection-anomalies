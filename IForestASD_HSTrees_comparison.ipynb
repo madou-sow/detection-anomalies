{
 "cells": [
  {
   "cell_type": "markdown",
   "metadata": {},
   "source": [
    "# An example of how to test our IForestASD Implementation & Compare IForestASD against HSTrees"
   ]
  },
  {
   "cell_type": "markdown",
   "metadata": {},
   "source": [
    "## Install skmultiflow if needed\n",
    "You need to install git"
   ]
  },
  {
   "cell_type": "code",
   "execution_count": 43,
   "metadata": {
    "ExecuteTime": {
     "end_time": "2022-05-10T11:34:10.963469Z",
     "start_time": "2022-05-10T11:34:10.958904Z"
    }
   },
   "outputs": [],
   "source": [
    "try:\n",
    "    import skmultiflow\n",
    "except ImportError as e:\n",
    "    print(\"scikit-multiflow package installation\")\n",
    "    !pip install -U git+https://github.com/scikit-multiflow/scikit-multiflow"
   ]
  },
  {
   "cell_type": "markdown",
   "metadata": {},
   "source": [
    "## Importations and configurations"
   ]
  },
  {
   "cell_type": "code",
   "execution_count": 42,
   "metadata": {
    "ExecuteTime": {
     "end_time": "2022-05-10T11:34:07.353209Z",
     "start_time": "2022-05-10T11:34:07.346391Z"
    }
   },
   "outputs": [],
   "source": [
    "%matplotlib notebook\n",
    "import matplotlib as plt\n",
    "plt.interactive(True)\n",
    "from source import functions\n",
    "func = functions.Comparison()\n",
    "import datetime"
   ]
  },
  {
   "cell_type": "markdown",
   "metadata": {},
   "source": [
    "## General parameters for the evaluation"
   ]
  },
  {
   "cell_type": "code",
   "execution_count": 61,
   "metadata": {
    "ExecuteTime": {
     "end_time": "2022-05-10T12:02:28.748244Z",
     "start_time": "2022-05-10T12:02:28.742622Z"
    }
   },
   "outputs": [],
   "source": [
    "window_sizes = [50, 100, 500, 1000]\n",
    "n_estimators = [30, 50, 100]\n",
    "anomaly_threshold = 0.5\n",
    "max_sample = 10000 # We have gotten the size of the min dataset (Shuttle) to evaluate all dataset on the same basis.\n",
    "n_wait = max_sample # The evaluation step size\n",
    "# Used metric in the evaluation. Attention to use the metrics availlable in skmultiflow\n",
    "metrics=['accuracy', 'f1', 'precision', 'recall', 'true_vs_predicted', 'kappa', 'kappa_m', 'running_time', 'model_size'] \n"
   ]
  },
  {
   "cell_type": "markdown",
   "metadata": {},
   "source": [
    "## Using Shuttle dataset\n",
    "\n",
    "Dataset Name : Shuttle\n",
    "Instances : 49097\n",
    "Attributes : 9\n",
    "Anomaly Percentage : 7.15%"
   ]
  },
  {
   "cell_type": "code",
   "execution_count": 79,
   "metadata": {
    "ExecuteTime": {
     "end_time": "2022-05-10T12:28:34.793537Z",
     "start_time": "2022-05-10T12:28:34.752078Z"
    }
   },
   "outputs": [
    {
     "name": "stdout",
     "output_type": "stream",
     "text": [
      "\n",
      "******************************** Window = 50 and n_estimator = 30 ********************************\n"
     ]
    },
    {
     "ename": "TypeError",
     "evalue": "run_comparison() got an unexpected keyword argument 'n_features'",
     "output_type": "error",
     "traceback": [
      "\u001b[0;31m---------------------------------------------------------------------------\u001b[0m",
      "\u001b[0;31mTypeError\u001b[0m                                 Traceback (most recent call last)",
      "Input \u001b[0;32mIn [79]\u001b[0m, in \u001b[0;36m<module>\u001b[0;34m\u001b[0m\n\u001b[1;32m      7\u001b[0m \u001b[38;5;28mprint\u001b[39m(\u001b[38;5;124m\"\u001b[39m\u001b[38;5;124m\"\u001b[39m)\n\u001b[1;32m      8\u001b[0m \u001b[38;5;28mprint\u001b[39m(\u001b[38;5;124m\"\u001b[39m\u001b[38;5;124m******************************** Window = \u001b[39m\u001b[38;5;124m\"\u001b[39m\u001b[38;5;241m+\u001b[39m\u001b[38;5;28mstr\u001b[39m(window)\u001b[38;5;241m+\u001b[39m\u001b[38;5;124m\"\u001b[39m\u001b[38;5;124m and n_estimator = \u001b[39m\u001b[38;5;124m\"\u001b[39m\u001b[38;5;241m+\u001b[39m\u001b[38;5;28mstr\u001b[39m(n_estimator)\u001b[38;5;241m+\u001b[39m\u001b[38;5;124m\"\u001b[39m\u001b[38;5;124m ********************************\u001b[39m\u001b[38;5;124m\"\u001b[39m)\n\u001b[0;32m----> 9\u001b[0m \u001b[43mfunc\u001b[49m\u001b[38;5;241;43m.\u001b[39;49m\u001b[43mrun_comparison\u001b[49m\u001b[43m(\u001b[49m\u001b[43mstream\u001b[49m\u001b[38;5;241;43m=\u001b[39;49m\u001b[43mstream\u001b[49m\u001b[43m,\u001b[49m\u001b[43m \u001b[49m\u001b[43mn_features\u001b[49m\u001b[38;5;241;43m=\u001b[39;49m\u001b[43mstream\u001b[49m\u001b[38;5;241;43m.\u001b[39;49m\u001b[43mn_features\u001b[49m\u001b[43m,\u001b[49m\u001b[43m \u001b[49m\u001b[43mwindow\u001b[49m\u001b[43m \u001b[49m\u001b[38;5;241;43m=\u001b[39;49m\u001b[43m \u001b[49m\u001b[43mwindow\u001b[49m\u001b[43m,\u001b[49m\u001b[43m \u001b[49m\u001b[43mestimators\u001b[49m\u001b[43m \u001b[49m\u001b[38;5;241;43m=\u001b[39;49m\u001b[43m \u001b[49m\u001b[43mn_estimator\u001b[49m\u001b[43m,\u001b[49m\u001b[43m \u001b[49m\u001b[43manomaly\u001b[49m\u001b[43m \u001b[49m\u001b[38;5;241;43m=\u001b[39;49m\u001b[43m \u001b[49m\u001b[43manomaly_threshold\u001b[49m\u001b[43m,\u001b[49m\u001b[43m \u001b[49m\u001b[43mdrift_rate\u001b[49m\u001b[43m \u001b[49m\u001b[38;5;241;43m=\u001b[39;49m\u001b[43m \u001b[49m\u001b[43mdrift_rate\u001b[49m\u001b[43m,\u001b[49m\u001b[43m \u001b[49m\u001b[43mresult_folder\u001b[49m\u001b[38;5;241;43m=\u001b[39;49m\u001b[43mtest_name\u001b[49m\u001b[43m,\u001b[49m\u001b[43m \u001b[49m\u001b[43mmax_sample\u001b[49m\u001b[38;5;241;43m=\u001b[39;49m\u001b[43mmax_sample\u001b[49m\u001b[43m,\u001b[49m\u001b[43m \u001b[49m\u001b[43mn_wait\u001b[49m\u001b[38;5;241;43m=\u001b[39;49m\u001b[43mn_wait\u001b[49m\u001b[43m,\u001b[49m\u001b[43m \u001b[49m\u001b[43mmetrics\u001b[49m\u001b[38;5;241;43m=\u001b[39;49m\u001b[43mmetrics\u001b[49m\u001b[43m)\u001b[49m\n",
      "\u001b[0;31mTypeError\u001b[0m: run_comparison() got an unexpected keyword argument 'n_features'"
     ]
    }
   ],
   "source": [
    "dataset_name = \"Shuttle\"\n",
    "test_name = dataset_name+'_'+str(datetime.datetime.now())\n",
    "drift_rate = 7.15\n",
    "stream = func.get_dataset(dataset_name=dataset_name)\n",
    "for window in window_sizes:\n",
    "    for n_estimator in n_estimators:\n",
    "        print(\"\")\n",
    "        print(\"******************************** Window = \"+str(window)+\" and n_estimator = \"+str(n_estimator)+\" ********************************\")\n",
    "        func.run_comparison(stream=stream, n_features=stream.n_features, window = window, estimators = n_estimator, anomaly = anomaly_threshold, drift_rate = drift_rate, result_folder=test_name, max_sample=max_sample, n_wait=n_wait, metrics=metrics)"
   ]
  },
  {
   "cell_type": "markdown",
   "metadata": {},
   "source": [
    "## Using SMTP dataset\n",
    "   \n",
    "Dataset Name : Smtp\n",
    "Instances : 95156\n",
    "Attributes : 3\n",
    "Anomaly Percentage : 0.03%"
   ]
  },
  {
   "cell_type": "code",
   "execution_count": 38,
   "metadata": {
    "ExecuteTime": {
     "end_time": "2022-05-10T11:32:20.403372Z",
     "start_time": "2022-05-10T11:32:20.333612Z"
    }
   },
   "outputs": [
    {
     "name": "stdout",
     "output_type": "stream",
     "text": [
      "\n",
      "******************************** Window = 50 and n_estimator = 30 ********************************\n"
     ]
    },
    {
     "ename": "TypeError",
     "evalue": "__init__() got an unexpected keyword argument 'n_features'",
     "output_type": "error",
     "traceback": [
      "\u001b[0;31m---------------------------------------------------------------------------\u001b[0m",
      "\u001b[0;31mTypeError\u001b[0m                                 Traceback (most recent call last)",
      "Input \u001b[0;32mIn [38]\u001b[0m, in \u001b[0;36m<module>\u001b[0;34m\u001b[0m\n\u001b[1;32m      8\u001b[0m \u001b[38;5;28mprint\u001b[39m(\u001b[38;5;124m\"\u001b[39m\u001b[38;5;124m\"\u001b[39m)\n\u001b[1;32m      9\u001b[0m \u001b[38;5;28mprint\u001b[39m(\u001b[38;5;124m\"\u001b[39m\u001b[38;5;124m******************************** Window = \u001b[39m\u001b[38;5;124m\"\u001b[39m\u001b[38;5;241m+\u001b[39m\u001b[38;5;28mstr\u001b[39m(window)\u001b[38;5;241m+\u001b[39m\u001b[38;5;124m\"\u001b[39m\u001b[38;5;124m and n_estimator = \u001b[39m\u001b[38;5;124m\"\u001b[39m\u001b[38;5;241m+\u001b[39m\u001b[38;5;28mstr\u001b[39m(n_estimator)\u001b[38;5;241m+\u001b[39m\u001b[38;5;124m\"\u001b[39m\u001b[38;5;124m ********************************\u001b[39m\u001b[38;5;124m\"\u001b[39m)\n\u001b[0;32m---> 10\u001b[0m \u001b[43mfunc\u001b[49m\u001b[38;5;241;43m.\u001b[39;49m\u001b[43mrun_comparison\u001b[49m\u001b[43m(\u001b[49m\u001b[43mstream\u001b[49m\u001b[38;5;241;43m=\u001b[39;49m\u001b[43mstream\u001b[49m\u001b[43m,\u001b[49m\u001b[43m \u001b[49m\u001b[43mstream_n_features\u001b[49m\u001b[38;5;241;43m=\u001b[39;49m\u001b[43mstream\u001b[49m\u001b[38;5;241;43m.\u001b[39;49m\u001b[43mn_features\u001b[49m\u001b[43m,\u001b[49m\u001b[43m \u001b[49m\u001b[43mwindow\u001b[49m\u001b[43m \u001b[49m\u001b[38;5;241;43m=\u001b[39;49m\u001b[43m \u001b[49m\u001b[43mwindow\u001b[49m\u001b[43m,\u001b[49m\u001b[43m \u001b[49m\u001b[43mestimators\u001b[49m\u001b[43m \u001b[49m\u001b[38;5;241;43m=\u001b[39;49m\u001b[43m \u001b[49m\u001b[43mn_estimator\u001b[49m\u001b[43m,\u001b[49m\u001b[43m \u001b[49m\u001b[43manomaly\u001b[49m\u001b[43m \u001b[49m\u001b[38;5;241;43m=\u001b[39;49m\u001b[43m \u001b[49m\u001b[43manomaly_threshold\u001b[49m\u001b[43m,\u001b[49m\u001b[43m \u001b[49m\u001b[43mdrift_rate\u001b[49m\u001b[43m \u001b[49m\u001b[38;5;241;43m=\u001b[39;49m\u001b[43m \u001b[49m\u001b[43mdrift_rate\u001b[49m\u001b[43m,\u001b[49m\u001b[43m \u001b[49m\u001b[43mresult_folder\u001b[49m\u001b[38;5;241;43m=\u001b[39;49m\u001b[43mtest_name\u001b[49m\u001b[43m,\u001b[49m\u001b[43m \u001b[49m\u001b[43mmax_sample\u001b[49m\u001b[38;5;241;43m=\u001b[39;49m\u001b[43mmax_sample\u001b[49m\u001b[43m,\u001b[49m\u001b[43m \u001b[49m\u001b[43mn_wait\u001b[49m\u001b[38;5;241;43m=\u001b[39;49m\u001b[43mn_wait\u001b[49m\u001b[43m,\u001b[49m\u001b[43m \u001b[49m\u001b[43mmetrics\u001b[49m\u001b[38;5;241;43m=\u001b[39;49m\u001b[43mmetrics\u001b[49m\u001b[43m)\u001b[49m\n",
      "File \u001b[0;32m~/big-data/cerin24022022/py-mariambarry/skmultiflow_IForestASD/source/functions.py:36\u001b[0m, in \u001b[0;36mComparison.run_comparison\u001b[0;34m(self, stream, stream_n_features, window, estimators, anomaly, drift_rate, result_folder, max_sample, n_wait, metrics)\u001b[0m\n\u001b[1;32m     31\u001b[0m result_file_path \u001b[38;5;241m=\u001b[39m directory_path\u001b[38;5;241m+\u001b[39m\u001b[38;5;124m'\u001b[39m\u001b[38;5;124m/result_for_WS\u001b[39m\u001b[38;5;124m'\u001b[39m\u001b[38;5;241m+\u001b[39m\u001b[38;5;28mstr\u001b[39m(window)\u001b[38;5;241m+\u001b[39m\u001b[38;5;124m'\u001b[39m\u001b[38;5;124m_NE\u001b[39m\u001b[38;5;124m'\u001b[39m\u001b[38;5;241m+\u001b[39m\u001b[38;5;28mstr\u001b[39m(estimators)\u001b[38;5;241m+\u001b[39m\u001b[38;5;124m'\u001b[39m\u001b[38;5;124m.csv\u001b[39m\u001b[38;5;124m'\u001b[39m\n\u001b[1;32m     33\u001b[0m \u001b[38;5;66;03m# 2. Prepare for use This function is usefull to have data window by window\u001b[39;00m\n\u001b[1;32m     34\u001b[0m \u001b[38;5;66;03m# stream.prepare_for_use() # Deprecated so how to prepare data?\u001b[39;00m\n\u001b[0;32m---> 36\u001b[0m models \u001b[38;5;241m=\u001b[39m [\u001b[43mHalfSpaceTrees\u001b[49m\u001b[43m(\u001b[49m\u001b[43mn_features\u001b[49m\u001b[38;5;241;43m=\u001b[39;49m\u001b[43mstream_n_features\u001b[49m\u001b[43m,\u001b[49m\u001b[43m \u001b[49m\u001b[43mwindow_size\u001b[49m\u001b[38;5;241;43m=\u001b[39;49m\u001b[43mwindow\u001b[49m\u001b[43m,\u001b[49m\u001b[43m \u001b[49m\n\u001b[1;32m     37\u001b[0m \u001b[43m                         \u001b[49m\u001b[43mn_estimators\u001b[49m\u001b[38;5;241;43m=\u001b[39;49m\u001b[43mestimators\u001b[49m\u001b[43m,\u001b[49m\u001b[43m \u001b[49m\u001b[43manomaly_threshold\u001b[49m\u001b[38;5;241;43m=\u001b[39;49m\u001b[43manomaly\u001b[49m\u001b[43m)\u001b[49m,\n\u001b[1;32m     38\u001b[0m \u001b[38;5;66;03m#IForest ASD use all the window_size for the sample in the training phase\u001b[39;00m\n\u001b[1;32m     39\u001b[0m IsolationForestStream(window_size\u001b[38;5;241m=\u001b[39mwindow, n_estimators\u001b[38;5;241m=\u001b[39mestimators, \n\u001b[1;32m     40\u001b[0m                       anomaly_threshold\u001b[38;5;241m=\u001b[39manomaly, drift_threshold\u001b[38;5;241m=\u001b[39mdrift_rate)]\n\u001b[1;32m     41\u001b[0m \u001b[38;5;66;03m# Setup the evaluator\u001b[39;00m\n\u001b[1;32m     42\u001b[0m evaluator \u001b[38;5;241m=\u001b[39m EvaluatePrequential(pretrain_size\u001b[38;5;241m=\u001b[39m\u001b[38;5;241m1\u001b[39m, max_samples\u001b[38;5;241m=\u001b[39mmax_sample, \n\u001b[1;32m     43\u001b[0m                                 show_plot\u001b[38;5;241m=\u001b[39m\u001b[38;5;28;01mTrue\u001b[39;00m, \n\u001b[1;32m     44\u001b[0m                                 metrics\u001b[38;5;241m=\u001b[39mmetrics, batch_size\u001b[38;5;241m=\u001b[39m\u001b[38;5;241m1\u001b[39m, \n\u001b[1;32m     45\u001b[0m                                 output_file \u001b[38;5;241m=\u001b[39m result_file_path,\n\u001b[1;32m     46\u001b[0m                                 n_wait \u001b[38;5;241m=\u001b[39m n_wait) \n",
      "\u001b[0;31mTypeError\u001b[0m: __init__() got an unexpected keyword argument 'n_features'"
     ]
    }
   ],
   "source": [
    "dataset_name = \"SMTP\"\n",
    "#n_features=stream.n_features\n",
    "test_name = dataset_name+'_'+str(datetime.datetime.now())\n",
    "drift_rate = 0.03\n",
    "stream = func.get_dataset(dataset_name=dataset_name)\n",
    "for window in window_sizes:\n",
    "    for n_estimator in n_estimators:\n",
    "        print(\"\")\n",
    "        print(\"******************************** Window = \"+str(window)+\" and n_estimator = \"+str(n_estimator)+\" ********************************\")\n",
    "        func.run_comparison(stream=stream, stream_n_features=stream.n_features, window = window, estimators = n_estimator, anomaly = anomaly_threshold, drift_rate = drift_rate, result_folder=test_name, max_sample=max_sample, n_wait=n_wait, metrics=metrics)\n",
    "    "
   ]
  },
  {
   "cell_type": "markdown",
   "metadata": {},
   "source": [
    "## Using ForestCover dataset\n",
    "   \n",
    "Dataset Name : ForestCover\n",
    "Instances : 286048\n",
    "Attributes : 10\n",
    "Anomaly Percentage : 0.96%"
   ]
  },
  {
   "cell_type": "code",
   "execution_count": 35,
   "metadata": {
    "ExecuteTime": {
     "end_time": "2022-05-10T11:16:13.848847Z",
     "start_time": "2022-05-10T11:16:13.673363Z"
    }
   },
   "outputs": [
    {
     "name": "stdout",
     "output_type": "stream",
     "text": [
      "\n",
      "******************************** Window = 50 and n_estimator = 30 ********************************\n"
     ]
    },
    {
     "ename": "TypeError",
     "evalue": "__init__() got an unexpected keyword argument 'n_features'",
     "output_type": "error",
     "traceback": [
      "\u001b[0;31m---------------------------------------------------------------------------\u001b[0m",
      "\u001b[0;31mTypeError\u001b[0m                                 Traceback (most recent call last)",
      "Input \u001b[0;32mIn [35]\u001b[0m, in \u001b[0;36m<module>\u001b[0;34m\u001b[0m\n\u001b[1;32m      7\u001b[0m \u001b[38;5;28mprint\u001b[39m(\u001b[38;5;124m\"\u001b[39m\u001b[38;5;124m\"\u001b[39m)\n\u001b[1;32m      8\u001b[0m \u001b[38;5;28mprint\u001b[39m(\u001b[38;5;124m\"\u001b[39m\u001b[38;5;124m******************************** Window = \u001b[39m\u001b[38;5;124m\"\u001b[39m\u001b[38;5;241m+\u001b[39m\u001b[38;5;28mstr\u001b[39m(window)\u001b[38;5;241m+\u001b[39m\u001b[38;5;124m\"\u001b[39m\u001b[38;5;124m and n_estimator = \u001b[39m\u001b[38;5;124m\"\u001b[39m\u001b[38;5;241m+\u001b[39m\u001b[38;5;28mstr\u001b[39m(n_estimator)\u001b[38;5;241m+\u001b[39m\u001b[38;5;124m\"\u001b[39m\u001b[38;5;124m ********************************\u001b[39m\u001b[38;5;124m\"\u001b[39m)\n\u001b[0;32m----> 9\u001b[0m \u001b[43mfunc\u001b[49m\u001b[38;5;241;43m.\u001b[39;49m\u001b[43mrun_comparison\u001b[49m\u001b[43m(\u001b[49m\u001b[43mstream\u001b[49m\u001b[38;5;241;43m=\u001b[39;49m\u001b[43mstream\u001b[49m\u001b[43m,\u001b[49m\u001b[43m \u001b[49m\u001b[43mstream_n_features\u001b[49m\u001b[38;5;241;43m=\u001b[39;49m\u001b[43mstream\u001b[49m\u001b[38;5;241;43m.\u001b[39;49m\u001b[43mn_features\u001b[49m\u001b[43m,\u001b[49m\u001b[43m \u001b[49m\u001b[43mwindow\u001b[49m\u001b[43m \u001b[49m\u001b[38;5;241;43m=\u001b[39;49m\u001b[43m \u001b[49m\u001b[43mwindow\u001b[49m\u001b[43m,\u001b[49m\u001b[43m \u001b[49m\n\u001b[1;32m     10\u001b[0m \u001b[43m                     \u001b[49m\u001b[43mestimators\u001b[49m\u001b[43m \u001b[49m\u001b[38;5;241;43m=\u001b[39;49m\u001b[43m \u001b[49m\u001b[43mn_estimator\u001b[49m\u001b[43m,\u001b[49m\u001b[43m \u001b[49m\u001b[43manomaly\u001b[49m\u001b[43m \u001b[49m\u001b[38;5;241;43m=\u001b[39;49m\u001b[43m \u001b[49m\u001b[43manomaly_threshold\u001b[49m\u001b[43m,\u001b[49m\u001b[43m \u001b[49m\u001b[43mdrift_rate\u001b[49m\u001b[43m \u001b[49m\u001b[38;5;241;43m=\u001b[39;49m\u001b[43m \u001b[49m\u001b[43mdrift_rate\u001b[49m\u001b[43m,\u001b[49m\u001b[43m \u001b[49m\n\u001b[1;32m     11\u001b[0m \u001b[43m                     \u001b[49m\u001b[43mresult_folder\u001b[49m\u001b[38;5;241;43m=\u001b[39;49m\u001b[43mtest_name\u001b[49m\u001b[43m,\u001b[49m\u001b[43m \u001b[49m\u001b[43mmax_sample\u001b[49m\u001b[38;5;241;43m=\u001b[39;49m\u001b[43mmax_sample\u001b[49m\u001b[43m,\u001b[49m\u001b[43m \u001b[49m\u001b[43mn_wait\u001b[49m\u001b[38;5;241;43m=\u001b[39;49m\u001b[43mn_wait\u001b[49m\u001b[43m,\u001b[49m\u001b[43m \u001b[49m\u001b[43mmetrics\u001b[49m\u001b[38;5;241;43m=\u001b[39;49m\u001b[43mmetrics\u001b[49m\u001b[43m)\u001b[49m\n",
      "File \u001b[0;32m~/big-data/cerin24022022/py-mariambarry/skmultiflow_IForestASD/source/functions.py:36\u001b[0m, in \u001b[0;36mComparison.run_comparison\u001b[0;34m(self, stream, stream_n_features, window, estimators, anomaly, drift_rate, result_folder, max_sample, n_wait, metrics)\u001b[0m\n\u001b[1;32m     31\u001b[0m result_file_path \u001b[38;5;241m=\u001b[39m directory_path\u001b[38;5;241m+\u001b[39m\u001b[38;5;124m'\u001b[39m\u001b[38;5;124m/result_for_WS\u001b[39m\u001b[38;5;124m'\u001b[39m\u001b[38;5;241m+\u001b[39m\u001b[38;5;28mstr\u001b[39m(window)\u001b[38;5;241m+\u001b[39m\u001b[38;5;124m'\u001b[39m\u001b[38;5;124m_NE\u001b[39m\u001b[38;5;124m'\u001b[39m\u001b[38;5;241m+\u001b[39m\u001b[38;5;28mstr\u001b[39m(estimators)\u001b[38;5;241m+\u001b[39m\u001b[38;5;124m'\u001b[39m\u001b[38;5;124m.csv\u001b[39m\u001b[38;5;124m'\u001b[39m\n\u001b[1;32m     33\u001b[0m \u001b[38;5;66;03m# 2. Prepare for use This function is usefull to have data window by window\u001b[39;00m\n\u001b[1;32m     34\u001b[0m \u001b[38;5;66;03m# stream.prepare_for_use() # Deprecated so how to prepare data?\u001b[39;00m\n\u001b[0;32m---> 36\u001b[0m models \u001b[38;5;241m=\u001b[39m [\u001b[43mHalfSpaceTrees\u001b[49m\u001b[43m(\u001b[49m\u001b[43mn_features\u001b[49m\u001b[38;5;241;43m=\u001b[39;49m\u001b[43mstream_n_features\u001b[49m\u001b[43m,\u001b[49m\u001b[43m \u001b[49m\u001b[43mwindow_size\u001b[49m\u001b[38;5;241;43m=\u001b[39;49m\u001b[43mwindow\u001b[49m\u001b[43m,\u001b[49m\u001b[43m \u001b[49m\n\u001b[1;32m     37\u001b[0m \u001b[43m                         \u001b[49m\u001b[43mn_estimators\u001b[49m\u001b[38;5;241;43m=\u001b[39;49m\u001b[43mestimators\u001b[49m\u001b[43m,\u001b[49m\u001b[43m \u001b[49m\u001b[43manomaly_threshold\u001b[49m\u001b[38;5;241;43m=\u001b[39;49m\u001b[43manomaly\u001b[49m\u001b[43m)\u001b[49m,\n\u001b[1;32m     38\u001b[0m \u001b[38;5;66;03m#IForest ASD use all the window_size for the sample in the training phase\u001b[39;00m\n\u001b[1;32m     39\u001b[0m IsolationForestStream(window_size\u001b[38;5;241m=\u001b[39mwindow, n_estimators\u001b[38;5;241m=\u001b[39mestimators, \n\u001b[1;32m     40\u001b[0m                       anomaly_threshold\u001b[38;5;241m=\u001b[39manomaly, drift_threshold\u001b[38;5;241m=\u001b[39mdrift_rate)]\n\u001b[1;32m     41\u001b[0m \u001b[38;5;66;03m# Setup the evaluator\u001b[39;00m\n\u001b[1;32m     42\u001b[0m evaluator \u001b[38;5;241m=\u001b[39m EvaluatePrequential(pretrain_size\u001b[38;5;241m=\u001b[39m\u001b[38;5;241m1\u001b[39m, max_samples\u001b[38;5;241m=\u001b[39mmax_sample, \n\u001b[1;32m     43\u001b[0m                                 show_plot\u001b[38;5;241m=\u001b[39m\u001b[38;5;28;01mTrue\u001b[39;00m, \n\u001b[1;32m     44\u001b[0m                                 metrics\u001b[38;5;241m=\u001b[39mmetrics, batch_size\u001b[38;5;241m=\u001b[39m\u001b[38;5;241m1\u001b[39m, \n\u001b[1;32m     45\u001b[0m                                 output_file \u001b[38;5;241m=\u001b[39m result_file_path,\n\u001b[1;32m     46\u001b[0m                                 n_wait \u001b[38;5;241m=\u001b[39m n_wait) \n",
      "\u001b[0;31mTypeError\u001b[0m: __init__() got an unexpected keyword argument 'n_features'"
     ]
    }
   ],
   "source": [
    "dataset_name = \"ForestCover\"\n",
    "test_name = dataset_name+'_'+str(datetime.datetime.now())\n",
    "drift_rate = 0.96\n",
    "stream = func.get_dataset(dataset_name=dataset_name)\n",
    "for window in window_sizes:\n",
    "    for n_estimator in n_estimators:\n",
    "        print(\"\")\n",
    "        print(\"******************************** Window = \"+str(window)+\" and n_estimator = \"+str(n_estimator)+\" ********************************\")\n",
    "        func.run_comparison(stream=stream, stream_n_features=stream.n_features, window = window, \n",
    "                             estimators = n_estimator, anomaly = anomaly_threshold, drift_rate = drift_rate, \n",
    "                             result_folder=test_name, max_sample=max_sample, n_wait=n_wait, metrics=metrics)"
   ]
  },
  {
   "cell_type": "markdown",
   "metadata": {},
   "source": [
    "# Plot differents results"
   ]
  },
  {
   "cell_type": "markdown",
   "metadata": {},
   "source": [
    "## Fusion of differents results file"
   ]
  },
  {
   "cell_type": "code",
   "execution_count": null,
   "metadata": {},
   "outputs": [],
   "source": []
  },
  {
   "cell_type": "markdown",
   "metadata": {},
   "source": [
    "## Model Size"
   ]
  },
  {
   "cell_type": "code",
   "execution_count": 16,
   "metadata": {
    "ExecuteTime": {
     "end_time": "2022-05-09T13:36:07.747162Z",
     "start_time": "2022-05-09T13:36:07.713208Z"
    }
   },
   "outputs": [
    {
     "ename": "NameError",
     "evalue": "name 'df_shuttle' is not defined",
     "output_type": "error",
     "traceback": [
      "\u001b[0;31m---------------------------------------------------------------------------\u001b[0m",
      "\u001b[0;31mNameError\u001b[0m                                 Traceback (most recent call last)",
      "Input \u001b[0;32mIn [16]\u001b[0m, in \u001b[0;36m<module>\u001b[0;34m\u001b[0m\n\u001b[0;32m----> 1\u001b[0m \u001b[43mdf_shuttle\u001b[49m\u001b[38;5;241m.\u001b[39msort_values(by \u001b[38;5;241m=\u001b[39m [\u001b[38;5;124m'\u001b[39m\u001b[38;5;124mwindow\u001b[39m\u001b[38;5;124m'\u001b[39m, \u001b[38;5;124m'\u001b[39m\u001b[38;5;124mestimators\u001b[39m\u001b[38;5;124m'\u001b[39m], inplace\u001b[38;5;241m=\u001b[39m \u001b[38;5;28;01mTrue\u001b[39;00m)\n\u001b[1;32m      2\u001b[0m ax1 \u001b[38;5;241m=\u001b[39m  df_shuttle\u001b[38;5;241m.\u001b[39mplot(x\u001b[38;5;241m=\u001b[39m\u001b[38;5;124m\"\u001b[39m\u001b[38;5;124mWindows_Trees_set_up\u001b[39m\u001b[38;5;124m\"\u001b[39m, y\u001b[38;5;241m=\u001b[39m[\u001b[38;5;124m'\u001b[39m\u001b[38;5;124mmodel_size_[HSTrees]\u001b[39m\u001b[38;5;124m'\u001b[39m], kind\u001b[38;5;241m=\u001b[39m\u001b[38;5;124m\"\u001b[39m\u001b[38;5;124mbar\u001b[39m\u001b[38;5;124m\"\u001b[39m, figsize\u001b[38;5;241m=\u001b[39m(\u001b[38;5;241m10\u001b[39m, \u001b[38;5;241m5\u001b[39m),\n\u001b[1;32m      3\u001b[0m                      title\u001b[38;5;241m=\u001b[39m \u001b[38;5;124m'\u001b[39m\u001b[38;5;124m Model Size : HS-Trees (SHUTTLE) vs iForestASD (3 datasets)\u001b[39m\u001b[38;5;124m'\u001b[39m)\n\u001b[1;32m      5\u001b[0m \u001b[38;5;66;03m#ax1.plot(df_forest.Windows_Trees_set_up, df_forest['model_size_[iForestASD]'], color = 'yellow')\u001b[39;00m\n\u001b[1;32m      6\u001b[0m  \n\u001b[1;32m      7\u001b[0m \u001b[38;5;66;03m#ax1.legend('HSTrees_size',loc=\"upper left\")\u001b[39;00m\n",
      "\u001b[0;31mNameError\u001b[0m: name 'df_shuttle' is not defined"
     ]
    }
   ],
   "source": [
    "df_shuttle.sort_values(by = ['window', 'estimators'], inplace= True)\n",
    "ax1 =  df_shuttle.plot(x=\"Windows_Trees_set_up\", y=['model_size_[HSTrees]'], kind=\"bar\", figsize=(10, 5),\n",
    "                     title= ' Model Size : HS-Trees (SHUTTLE) vs iForestASD (3 datasets)')\n",
    " \n",
    "#ax1.plot(df_forest.Windows_Trees_set_up, df_forest['model_size_[iForestASD]'], color = 'yellow')\n",
    " \n",
    "#ax1.legend('HSTrees_size',loc=\"upper left\")\n",
    "ax2 = ax1.twinx()\n",
    "\n",
    "ax2.plot(df_shuttle.Windows_Trees_set_up, df_shuttle['model_size_[iForestASD]'], color = 'red', marker=\"o\")\n",
    "ax2.plot(df_shuttle.Windows_Trees_set_up, df_forest['model_size_[iForestASD]'], color = 'green', marker=\"x\")\n",
    "ax2.plot(df_shuttle.Windows_Trees_set_up, df_smtp['model_size_[iForestASD]'], color = 'orange', marker=\"o\")\n",
    "\n",
    "ax2.set_ylabel(\"model_size_[iForestASD]\",color=\"red\",fontsize=14)\n",
    "ax1.set_xlabel(\"Parameters Set up - Windows__Trees\",color=\"black\",fontsize=14)\n",
    " \n",
    "ax2.legend(['SHUTTLE_IFA', 'FOREST_IFA', 'SMTP_IFA'], loc = 'upper right')\n",
    "ax1.legend(['HSTrees_Shuttle_Model_Size'])\n",
    " \n",
    "#ax3 = ax1.twinx()\n",
    " \n",
    "#ax2.legend([ax1.get_lines()[0], ax2.get_lines()[0]],\\\n",
    "#          ['model_size_[HSTrees]',\"model_size_[iForestASD]\"])"
   ]
  },
  {
   "cell_type": "markdown",
   "metadata": {},
   "source": [
    "## Processing Time"
   ]
  },
  {
   "cell_type": "code",
   "execution_count": 18,
   "metadata": {
    "ExecuteTime": {
     "end_time": "2022-05-09T13:36:20.010244Z",
     "start_time": "2022-05-09T13:36:19.970313Z"
    }
   },
   "outputs": [
    {
     "ename": "NameError",
     "evalue": "name 'df_forest' is not defined",
     "output_type": "error",
     "traceback": [
      "\u001b[0;31m---------------------------------------------------------------------------\u001b[0m",
      "\u001b[0;31mNameError\u001b[0m                                 Traceback (most recent call last)",
      "Input \u001b[0;32mIn [18]\u001b[0m, in \u001b[0;36m<module>\u001b[0;34m\u001b[0m\n\u001b[0;32m----> 1\u001b[0m ax1 \u001b[38;5;241m=\u001b[39m \u001b[43mdf_forest\u001b[49m\u001b[38;5;241m.\u001b[39mplot(x\u001b[38;5;241m=\u001b[39m\u001b[38;5;124m\"\u001b[39m\u001b[38;5;124mWindows_Trees_set_up\u001b[39m\u001b[38;5;124m\"\u001b[39m, y\u001b[38;5;241m=\u001b[39m[ \u001b[38;5;124m'\u001b[39m\u001b[38;5;124mtraining_time_[HSTrees]\u001b[39m\u001b[38;5;124m'\u001b[39m,  \u001b[38;5;124m'\u001b[39m\u001b[38;5;124mtraining_time_[iForestASD]\u001b[39m\u001b[38;5;124m'\u001b[39m, \u001b[38;5;124m'\u001b[39m\u001b[38;5;124mtesting_time_[HSTrees]\u001b[39m\u001b[38;5;124m'\u001b[39m,\n\u001b[1;32m      2\u001b[0m      \n\u001b[1;32m      3\u001b[0m                                          ], kind\u001b[38;5;241m=\u001b[39m\u001b[38;5;124m\"\u001b[39m\u001b[38;5;124mbar\u001b[39m\u001b[38;5;124m\"\u001b[39m, title\u001b[38;5;241m=\u001b[39m\u001b[38;5;124m'\u001b[39m\u001b[38;5;124mFOREST COVER - Running Time (IFA Testing in right axis)\u001b[39m\u001b[38;5;124m'\u001b[39m)\n\u001b[1;32m      4\u001b[0m ax2 \u001b[38;5;241m=\u001b[39m ax1\u001b[38;5;241m.\u001b[39mtwinx()\n\u001b[1;32m      6\u001b[0m ax2\u001b[38;5;241m.\u001b[39mplot(df_forest\u001b[38;5;241m.\u001b[39mWindows_Trees_set_up, df_forest[\u001b[38;5;124m'\u001b[39m\u001b[38;5;124mtesting_time_[iForestASD]\u001b[39m\u001b[38;5;124m'\u001b[39m], color \u001b[38;5;241m=\u001b[39m \u001b[38;5;124m'\u001b[39m\u001b[38;5;124mred\u001b[39m\u001b[38;5;124m'\u001b[39m, marker\u001b[38;5;241m=\u001b[39m\u001b[38;5;124m\"\u001b[39m\u001b[38;5;124mo\u001b[39m\u001b[38;5;124m\"\u001b[39m)\n",
      "\u001b[0;31mNameError\u001b[0m: name 'df_forest' is not defined"
     ]
    }
   ],
   "source": [
    "ax1 = df_forest.plot(x=\"Windows_Trees_set_up\", y=[ 'training_time_[HSTrees]',  'training_time_[iForestASD]', 'testing_time_[HSTrees]',\n",
    "     \n",
    "                                         ], kind=\"bar\", title='FOREST COVER - Running Time (IFA Testing in right axis)')\n",
    "ax2 = ax1.twinx()\n",
    " \n",
    "ax2.plot(df_forest.Windows_Trees_set_up, df_forest['testing_time_[iForestASD]'], color = 'red', marker=\"o\")\n",
    "ax2.legend(['IFA_Testing'],loc = \"upper right\")\n",
    "ax1.set_xlabel(\"Parameters Set up - Windows__Trees\",color=\"black\",fontsize=14)\n",
    "\n",
    "ax2.set_ylabel(\"testing_time_[iForestASD]\",color=\"red\",fontsize=14)\n",
    "ax1.legend(['HST_Training', 'IFA_Training', 'HST_Testing'], loc = 'upper center')"
   ]
  }
 ],
 "metadata": {
  "hide_input": false,
  "kernelspec": {
   "display_name": "Python 3 (ipykernel)",
   "language": "python",
   "name": "python3"
  },
  "language_info": {
   "codemirror_mode": {
    "name": "ipython",
    "version": 3
   },
   "file_extension": ".py",
   "mimetype": "text/x-python",
   "name": "python",
   "nbconvert_exporter": "python",
   "pygments_lexer": "ipython3",
   "version": "3.8.12"
  },
  "latex_envs": {
   "LaTeX_envs_menu_present": true,
   "autoclose": false,
   "autocomplete": true,
   "bibliofile": "biblio.bib",
   "cite_by": "apalike",
   "current_citInitial": 1,
   "eqLabelWithNumbers": true,
   "eqNumInitial": 1,
   "hotkeys": {
    "equation": "Ctrl-E",
    "itemize": "Ctrl-I"
   },
   "labels_anchors": false,
   "latex_user_defs": false,
   "report_style_numbering": false,
   "user_envs_cfg": false
  },
  "nbTranslate": {
   "displayLangs": [
    "*"
   ],
   "hotkey": "alt-t",
   "langInMainMenu": true,
   "sourceLang": "en",
   "targetLang": "fr",
   "useGoogleTranslate": true
  },
  "toc": {
   "base_numbering": 1,
   "nav_menu": {},
   "number_sections": true,
   "sideBar": true,
   "skip_h1_title": false,
   "title_cell": "Table of Contents",
   "title_sidebar": "Contents",
   "toc_cell": false,
   "toc_position": {},
   "toc_section_display": true,
   "toc_window_display": false
  },
  "varInspector": {
   "cols": {
    "lenName": 16,
    "lenType": 16,
    "lenVar": 40
   },
   "kernels_config": {
    "python": {
     "delete_cmd_postfix": "",
     "delete_cmd_prefix": "del ",
     "library": "var_list.py",
     "varRefreshCmd": "print(var_dic_list())"
    },
    "r": {
     "delete_cmd_postfix": ") ",
     "delete_cmd_prefix": "rm(",
     "library": "var_list.r",
     "varRefreshCmd": "cat(var_dic_list()) "
    }
   },
   "types_to_exclude": [
    "module",
    "function",
    "builtin_function_or_method",
    "instance",
    "_Feature"
   ],
   "window_display": false
  }
 },
 "nbformat": 4,
 "nbformat_minor": 2
}
