{
 "cells": [
  {
   "cell_type": "markdown",
   "metadata": {},
   "source": [
    "# An example of how to test our IForestASD Implementation & Compare IForestASD against HSTrees"
   ]
  },
  {
   "cell_type": "markdown",
   "metadata": {},
   "source": [
    "## Install skmultiflow if needed\n",
    "You need to install git"
   ]
  },
  {
   "cell_type": "code",
   "execution_count": 1,
   "metadata": {
    "ExecuteTime": {
     "end_time": "2022-05-10T12:28:59.942818Z",
     "start_time": "2022-05-10T12:28:58.601132Z"
    }
   },
   "outputs": [],
   "source": [
    "try:\n",
    "    import skmultiflow\n",
    "except ImportError as e:\n",
    "    print(\"scikit-multiflow package installation\")\n",
    "    !pip install -U git+https://github.com/scikit-multiflow/scikit-multiflow"
   ]
  },
  {
   "cell_type": "markdown",
   "metadata": {},
   "source": [
    "## Importations and configurations"
   ]
  },
  {
   "cell_type": "code",
   "execution_count": 2,
   "metadata": {
    "ExecuteTime": {
     "end_time": "2022-05-10T12:29:01.860145Z",
     "start_time": "2022-05-10T12:29:01.848659Z"
    }
   },
   "outputs": [],
   "source": [
    "%matplotlib notebook\n",
    "import matplotlib as plt\n",
    "plt.interactive(True)\n",
    "from source import functions\n",
    "func = functions.Comparison()\n",
    "import datetime"
   ]
  },
  {
   "cell_type": "markdown",
   "metadata": {},
   "source": [
    "## Dataset Generation"
   ]
  },
  {
   "cell_type": "code",
   "execution_count": 3,
   "metadata": {
    "ExecuteTime": {
     "end_time": "2022-05-10T12:29:04.770536Z",
     "start_time": "2022-05-10T12:29:04.768150Z"
    }
   },
   "outputs": [],
   "source": [
    "dataset_name = \"Generator\"\n",
    "test_name = dataset_name+'_'+str(datetime.datetime.now())\n",
    "stream = func.get_dataset(dataset_name=dataset_name, classification_function=0,noise_percentage=0.7, random_state=1)"
   ]
  },
  {
   "cell_type": "markdown",
   "metadata": {},
   "source": [
    "## General parameters for the evaluation"
   ]
  },
  {
   "cell_type": "code",
   "execution_count": 5,
   "metadata": {
    "ExecuteTime": {
     "end_time": "2022-05-10T12:29:12.442451Z",
     "start_time": "2022-05-10T12:29:12.439646Z"
    }
   },
   "outputs": [],
   "source": [
    "window = 100 #Number of data in the slinding window\n",
    "n_estimator = 100 #Number of tree in the forest\n",
    "anomaly_threshold = 0.5 #Anomaly detection score threshold\n",
    "max_sample = 500 # We have gotten the size of the min dataset (Shuttle) to evaluate all dataset on the same basis.\n",
    "n_wait = max_sample # The evaluation step size\n",
    "drift_rate = 0.3 #The parameter u for IForestASD for the drift detector\n",
    "\n",
    "# Used metric in the evaluation. Attention to use the metrics availlable in skmultiflow\n",
    "metrics=['accuracy', 'f1', 'precision', 'recall', 'true_vs_predicted', 'kappa', 'kappa_m', 'running_time', 'model_size'] "
   ]
  },
  {
   "cell_type": "markdown",
   "metadata": {},
   "source": [
    "## Run IForestASD and HSTrees on the generated dataset"
   ]
  },
  {
   "cell_type": "code",
   "execution_count": 16,
   "metadata": {
    "ExecuteTime": {
     "end_time": "2022-05-10T12:45:28.565554Z",
     "start_time": "2022-05-10T12:45:28.530795Z"
    }
   },
   "outputs": [
    {
     "ename": "TypeError",
     "evalue": "__init__() got an unexpected keyword argument 'n_features'",
     "output_type": "error",
     "traceback": [
      "\u001b[0;31m---------------------------------------------------------------------------\u001b[0m",
      "\u001b[0;31mTypeError\u001b[0m                                 Traceback (most recent call last)",
      "Input \u001b[0;32mIn [16]\u001b[0m, in \u001b[0;36m<module>\u001b[0;34m\u001b[0m\n\u001b[0;32m----> 1\u001b[0m \u001b[43mfunc\u001b[49m\u001b[38;5;241;43m.\u001b[39;49m\u001b[43mrun_comparison\u001b[49m\u001b[43m(\u001b[49m\u001b[43mstream\u001b[49m\u001b[38;5;241;43m=\u001b[39;49m\u001b[43mstream\u001b[49m\u001b[43m,\u001b[49m\u001b[43m \u001b[49m\u001b[43mstream_n_features\u001b[49m\u001b[38;5;241;43m=\u001b[39;49m\u001b[43mstream\u001b[49m\u001b[38;5;241;43m.\u001b[39;49m\u001b[43mn_features\u001b[49m\u001b[43m,\u001b[49m\u001b[43m \u001b[49m\u001b[43mwindow\u001b[49m\u001b[43m \u001b[49m\u001b[38;5;241;43m=\u001b[39;49m\u001b[43m \u001b[49m\u001b[43mwindow\u001b[49m\u001b[43m,\u001b[49m\u001b[43m \u001b[49m\u001b[43mestimators\u001b[49m\u001b[43m \u001b[49m\u001b[38;5;241;43m=\u001b[39;49m\u001b[43m \u001b[49m\u001b[43mn_estimator\u001b[49m\u001b[43m,\u001b[49m\u001b[43m \u001b[49m\u001b[43manomaly\u001b[49m\u001b[43m \u001b[49m\u001b[38;5;241;43m=\u001b[39;49m\u001b[43m \u001b[49m\u001b[43manomaly_threshold\u001b[49m\u001b[43m,\u001b[49m\u001b[43m \u001b[49m\u001b[43mdrift_rate\u001b[49m\u001b[43m \u001b[49m\u001b[38;5;241;43m=\u001b[39;49m\u001b[43m \u001b[49m\u001b[43mdrift_rate\u001b[49m\u001b[43m,\u001b[49m\u001b[43m \u001b[49m\u001b[43mresult_folder\u001b[49m\u001b[38;5;241;43m=\u001b[39;49m\u001b[43mtest_name\u001b[49m\u001b[43m,\u001b[49m\u001b[43m \u001b[49m\u001b[43mmax_sample\u001b[49m\u001b[38;5;241;43m=\u001b[39;49m\u001b[43mmax_sample\u001b[49m\u001b[43m,\u001b[49m\u001b[43m \u001b[49m\u001b[43mn_wait\u001b[49m\u001b[38;5;241;43m=\u001b[39;49m\u001b[43mn_wait\u001b[49m\u001b[43m,\u001b[49m\u001b[43m \u001b[49m\u001b[43mmetrics\u001b[49m\u001b[38;5;241;43m=\u001b[39;49m\u001b[43mmetrics\u001b[49m\u001b[43m)\u001b[49m\n",
      "File \u001b[0;32m~/big-data/cerin24022022/py-mariambarry/skmultiflow_IForestASD/source/functions.py:36\u001b[0m, in \u001b[0;36mComparison.run_comparison\u001b[0;34m(self, stream, stream_n_features, window, estimators, anomaly, drift_rate, result_folder, max_sample, n_wait, metrics)\u001b[0m\n\u001b[1;32m     31\u001b[0m result_file_path \u001b[38;5;241m=\u001b[39m directory_path\u001b[38;5;241m+\u001b[39m\u001b[38;5;124m'\u001b[39m\u001b[38;5;124m/result_for_WS\u001b[39m\u001b[38;5;124m'\u001b[39m\u001b[38;5;241m+\u001b[39m\u001b[38;5;28mstr\u001b[39m(window)\u001b[38;5;241m+\u001b[39m\u001b[38;5;124m'\u001b[39m\u001b[38;5;124m_NE\u001b[39m\u001b[38;5;124m'\u001b[39m\u001b[38;5;241m+\u001b[39m\u001b[38;5;28mstr\u001b[39m(estimators)\u001b[38;5;241m+\u001b[39m\u001b[38;5;124m'\u001b[39m\u001b[38;5;124m.csv\u001b[39m\u001b[38;5;124m'\u001b[39m\n\u001b[1;32m     33\u001b[0m \u001b[38;5;66;03m# 2. Prepare for use This function is usefull to have data window by window\u001b[39;00m\n\u001b[1;32m     34\u001b[0m \u001b[38;5;66;03m# stream.prepare_for_use() # Deprecated so how to prepare data?\u001b[39;00m\n\u001b[0;32m---> 36\u001b[0m models \u001b[38;5;241m=\u001b[39m [\u001b[43mHalfSpaceTrees\u001b[49m\u001b[43m(\u001b[49m\u001b[43mn_features\u001b[49m\u001b[38;5;241;43m=\u001b[39;49m\u001b[43mstream_n_features\u001b[49m\u001b[43m,\u001b[49m\u001b[43m \u001b[49m\u001b[43mwindow_size\u001b[49m\u001b[38;5;241;43m=\u001b[39;49m\u001b[43mwindow\u001b[49m\u001b[43m,\u001b[49m\u001b[43m \u001b[49m\u001b[43mn_estimators\u001b[49m\u001b[38;5;241;43m=\u001b[39;49m\u001b[43mestimators\u001b[49m\u001b[43m,\u001b[49m\u001b[43m \u001b[49m\u001b[43manomaly_threshold\u001b[49m\u001b[38;5;241;43m=\u001b[39;49m\u001b[43manomaly\u001b[49m\u001b[43m)\u001b[49m,\n\u001b[1;32m     37\u001b[0m \u001b[38;5;66;03m#IForest ASD use all the window_size for the sample in the training phase\u001b[39;00m\n\u001b[1;32m     38\u001b[0m IsolationForestStream(window_size\u001b[38;5;241m=\u001b[39mwindow, n_estimators\u001b[38;5;241m=\u001b[39mestimators, \n\u001b[1;32m     39\u001b[0m                       anomaly_threshold\u001b[38;5;241m=\u001b[39manomaly, drift_threshold\u001b[38;5;241m=\u001b[39mdrift_rate)]\n\u001b[1;32m     40\u001b[0m \u001b[38;5;66;03m# Setup the evaluator\u001b[39;00m\n\u001b[1;32m     41\u001b[0m evaluator \u001b[38;5;241m=\u001b[39m EvaluatePrequential(pretrain_size\u001b[38;5;241m=\u001b[39m\u001b[38;5;241m1\u001b[39m, max_samples\u001b[38;5;241m=\u001b[39mmax_sample, \n\u001b[1;32m     42\u001b[0m                                 show_plot\u001b[38;5;241m=\u001b[39m\u001b[38;5;28;01mTrue\u001b[39;00m, \n\u001b[1;32m     43\u001b[0m                                 metrics\u001b[38;5;241m=\u001b[39mmetrics, batch_size\u001b[38;5;241m=\u001b[39m\u001b[38;5;241m1\u001b[39m, \n\u001b[1;32m     44\u001b[0m                                 output_file \u001b[38;5;241m=\u001b[39m result_file_path,\n\u001b[1;32m     45\u001b[0m                                 n_wait \u001b[38;5;241m=\u001b[39m n_wait) \n",
      "\u001b[0;31mTypeError\u001b[0m: __init__() got an unexpected keyword argument 'n_features'"
     ]
    }
   ],
   "source": [
    "func.run_comparison(stream=stream, stream_n_features=stream.n_features, window = window, estimators = n_estimator, anomaly = anomaly_threshold, drift_rate = drift_rate, result_folder=test_name, max_sample=max_sample, n_wait=n_wait, metrics=metrics)"
   ]
  },
  {
   "cell_type": "code",
   "execution_count": null,
   "metadata": {},
   "outputs": [],
   "source": []
  }
 ],
 "metadata": {
  "hide_input": false,
  "kernelspec": {
   "display_name": "Python 3 (ipykernel)",
   "language": "python",
   "name": "python3"
  },
  "language_info": {
   "codemirror_mode": {
    "name": "ipython",
    "version": 3
   },
   "file_extension": ".py",
   "mimetype": "text/x-python",
   "name": "python",
   "nbconvert_exporter": "python",
   "pygments_lexer": "ipython3",
   "version": "3.8.12"
  },
  "latex_envs": {
   "LaTeX_envs_menu_present": true,
   "autoclose": false,
   "autocomplete": true,
   "bibliofile": "biblio.bib",
   "cite_by": "apalike",
   "current_citInitial": 1,
   "eqLabelWithNumbers": true,
   "eqNumInitial": 1,
   "hotkeys": {
    "equation": "Ctrl-E",
    "itemize": "Ctrl-I"
   },
   "labels_anchors": false,
   "latex_user_defs": false,
   "report_style_numbering": false,
   "user_envs_cfg": false
  },
  "nbTranslate": {
   "displayLangs": [
    "*"
   ],
   "hotkey": "alt-t",
   "langInMainMenu": true,
   "sourceLang": "en",
   "targetLang": "fr",
   "useGoogleTranslate": true
  },
  "toc": {
   "base_numbering": 1,
   "nav_menu": {},
   "number_sections": true,
   "sideBar": true,
   "skip_h1_title": false,
   "title_cell": "Table of Contents",
   "title_sidebar": "Contents",
   "toc_cell": false,
   "toc_position": {},
   "toc_section_display": true,
   "toc_window_display": false
  },
  "varInspector": {
   "cols": {
    "lenName": 16,
    "lenType": 16,
    "lenVar": 40
   },
   "kernels_config": {
    "python": {
     "delete_cmd_postfix": "",
     "delete_cmd_prefix": "del ",
     "library": "var_list.py",
     "varRefreshCmd": "print(var_dic_list())"
    },
    "r": {
     "delete_cmd_postfix": ") ",
     "delete_cmd_prefix": "rm(",
     "library": "var_list.r",
     "varRefreshCmd": "cat(var_dic_list()) "
    }
   },
   "types_to_exclude": [
    "module",
    "function",
    "builtin_function_or_method",
    "instance",
    "_Feature"
   ],
   "window_display": false
  }
 },
 "nbformat": 4,
 "nbformat_minor": 2
}
